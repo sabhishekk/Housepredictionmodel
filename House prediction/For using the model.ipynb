{
 "cells": [
  {
   "cell_type": "code",
   "execution_count": 1,
   "id": "ff53d413",
   "metadata": {},
   "outputs": [],
   "source": [
    "from joblib import load, dump\n",
    "model=load('dragon.joblib')"
   ]
  },
  {
   "cell_type": "code",
   "execution_count": 13,
   "id": "54fd4a22",
   "metadata": {},
   "outputs": [
    {
     "data": {
      "text/plain": [
       "array([19.894])"
      ]
     },
     "execution_count": 13,
     "metadata": {},
     "output_type": "execute_result"
    }
   ],
   "source": [
    "model.predict([[0,4,4,4,1,3,5,6,2,2,1,8,9]])"
   ]
  },
  {
   "cell_type": "code",
   "execution_count": null,
   "id": "66ec4208",
   "metadata": {},
   "outputs": [],
   "source": []
  }
 ],
 "metadata": {
  "kernelspec": {
   "display_name": "Python 3 (ipykernel)",
   "language": "python",
   "name": "python3"
  },
  "language_info": {
   "codemirror_mode": {
    "name": "ipython",
    "version": 3
   },
   "file_extension": ".py",
   "mimetype": "text/x-python",
   "name": "python",
   "nbconvert_exporter": "python",
   "pygments_lexer": "ipython3",
   "version": "3.11.1"
  }
 },
 "nbformat": 4,
 "nbformat_minor": 5
}
